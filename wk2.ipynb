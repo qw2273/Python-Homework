{
 "cells": [
  {
   "cell_type": "markdown",
   "metadata": {},
   "source": [
    "# Python Homework 2\n",
    "- Due Friday Sept 20 at 10am"
   ]
  },
  {
   "cell_type": "markdown",
   "metadata": {},
   "source": [
    "# Academic Honesty\n",
    "* The computer science department has strict polices. Check\n",
    "the department [web page](http://www.cs.columbia.edu/education/honesty) for details. \n",
    "- Do not look at anybody else's source code. Do not show anybody\n",
    "your source, or leave your source where somebody could see it.\n",
    "You MUST write your own code.\n",
    "- For this class, feel free to discuss issues with other people, but suggest waiting an hour or two after a discussion, before writing your code.\n",
    "-  Cases of non original source will be refered to the Judical Committee.\n"
   ]
  },
  {
   "cell_type": "markdown",
   "metadata": {},
   "source": [
    "# Note\n",
    "- the code for each problem is pretty short, so if you are doing something complicated, think again or get some help"
   ]
  },
  {
   "cell_type": "markdown",
   "metadata": {},
   "source": [
    "# Problem 1a - define function 'dot'\n",
    "- computes the standard 'dot products' \n",
    "between two lists \n",
    "- example: dot([1,2,3], [4,5,6]) = $$1 * 4 + 2 * 5 + 3 * 6 = 32$$\n",
    "- if one vector is longer than the other, the extra elements are ignored"
   ]
  },
  {
   "cell_type": "code",
   "execution_count": 1,
   "metadata": {},
   "outputs": [],
   "source": [
    "# test vectors for Problem 1 a,b,c,d\n",
    "tv0 = [1,2,3]\n",
    "tv1 = [4,5,6,7,8,9]"
   ]
  },
  {
   "cell_type": "code",
   "execution_count": 2,
   "metadata": {},
   "outputs": [],
   "source": [
    "def dot(v1,v2):\n",
    "    return(sum([a*b for a,b in zip(v1,v2)]))"
   ]
  },
  {
   "cell_type": "code",
   "execution_count": 3,
   "metadata": {},
   "outputs": [
    {
     "data": {
      "text/plain": [
       "32"
      ]
     },
     "execution_count": 3,
     "metadata": {},
     "output_type": "execute_result"
    }
   ],
   "source": [
    "# the 7,8,9 elements are ignored because zip stops when the shorter list is exhausted\n",
    "dot(tv0, tv1)"
   ]
  },
  {
   "cell_type": "markdown",
   "metadata": {},
   "source": [
    "# Problem 1b - define function 'shortlong' - puts things in a 'cannonical form' \n",
    "- takes two vectors, and returns in a list the shorter vector, the short vector length, the long vector, and the long vector length"
   ]
  },
  {
   "cell_type": "code",
   "execution_count": 4,
   "metadata": {},
   "outputs": [],
   "source": [
    "def shortlong(v1,v2):\n",
    "    if len(v1)<= len(v2):\n",
    "        lst = [v1, len(v1),v2,len(v2)]\n",
    "    else:\n",
    "        lst = [v2, len(v2),v1,len(v1)]\n",
    "    return lst"
   ]
  },
  {
   "cell_type": "code",
   "execution_count": 5,
   "metadata": {},
   "outputs": [
    {
     "data": {
      "text/plain": [
       "[[1, 2, 3], 3, [4, 5, 6, 7, 8, 9], 6]"
      ]
     },
     "execution_count": 5,
     "metadata": {},
     "output_type": "execute_result"
    }
   ],
   "source": [
    "shortlong(tv0, tv1)"
   ]
  },
  {
   "cell_type": "code",
   "execution_count": 6,
   "metadata": {},
   "outputs": [
    {
     "data": {
      "text/plain": [
       "[[1, 2, 3], 3, [4, 5, 6, 7, 8, 9], 6]"
      ]
     },
     "execution_count": 6,
     "metadata": {},
     "output_type": "execute_result"
    }
   ],
   "source": [
    "shortlong(tv1, tv0)"
   ]
  },
  {
   "cell_type": "markdown",
   "metadata": {},
   "source": [
    "# Problem 1c - define function 'dotmv'\n",
    "- more flexible version of 'dot'\n",
    "- 'dotmv' takes an extra 'offset' arg, which moves the shorter vector to the right\n",
    "- use 'shortlong' and 'dot'\n",
    "- dotmv(tv0, tv1, 2) = $$1 * 6 + 2 * 7 + 3 * 8$$"
   ]
  },
  {
   "cell_type": "code",
   "execution_count": 7,
   "metadata": {},
   "outputs": [],
   "source": [
    "def dotmv(v1,v2,offset):\n",
    "    short = shortlong(v1, v2)[0]\n",
    "    long = shortlong(v1, v2)[2]\n",
    "    zerolist = [0]*offset\n",
    "    new_short = zerolist+short\n",
    "    return(dot(new_short, long))"
   ]
  },
  {
   "cell_type": "code",
   "execution_count": 8,
   "metadata": {},
   "outputs": [],
   "source": [
    "# test vectors for Problem 1 a,b,c,d\n",
    "tv0 = [1,2,3]\n",
    "tv1 = [4,5,6,7,8,9]"
   ]
  },
  {
   "cell_type": "code",
   "execution_count": 9,
   "metadata": {},
   "outputs": [
    {
     "data": {
      "text/plain": [
       "[32, 38, 44]"
      ]
     },
     "execution_count": 9,
     "metadata": {},
     "output_type": "execute_result"
    }
   ],
   "source": [
    "[dotmv(tv0, tv1, 0), dotmv(tv0, tv1, 1), dotmv(tv0, tv1, 2)]"
   ]
  },
  {
   "cell_type": "markdown",
   "metadata": {},
   "source": [
    "# Problem 1d - define function 'dotpad' \n",
    "- another version of 'dot'\n",
    "- 'dotpad' takes a pad arg\n",
    "- if one vector is shorter, it is padded on the right with the pad value\n",
    "- use 'shortlong' and 'dot'\n",
    "- don't modify the input vectors\n",
    "- dotpad(tv0, tv1,1) = dot([1,2,3,1,1,1], [4,5,6,7,8,9])"
   ]
  },
  {
   "cell_type": "code",
   "execution_count": 10,
   "metadata": {},
   "outputs": [],
   "source": [
    "def dotpad(v1,v2,pad):\n",
    "    pad_list = [pad]*(shortlong(v1,v2)[-1] - shortlong(v1,v2)[1])\n",
    "    new_short = shortlong(v1,v2)[0] + pad_list\n",
    "    long =  shortlong(v1,v2)[-2]\n",
    "    return(dot(new_short, long))"
   ]
  },
  {
   "cell_type": "code",
   "execution_count": 11,
   "metadata": {},
   "outputs": [],
   "source": [
    "tv0 = [1,2,3]\n",
    "tv1 = [4,5,6,7,8,9]"
   ]
  },
  {
   "cell_type": "code",
   "execution_count": 12,
   "metadata": {},
   "outputs": [
    {
     "data": {
      "text/plain": [
       "[32, 56, 80]"
      ]
     },
     "execution_count": 12,
     "metadata": {},
     "output_type": "execute_result"
    }
   ],
   "source": [
    "[dotpad(tv0, tv1, j) for j in [0,1,2]]"
   ]
  },
  {
   "cell_type": "markdown",
   "metadata": {},
   "source": [
    "# Problem 2 - define function 'partition'\n",
    "- divides a list into segments\n",
    "- first arg is the input list\n",
    "- second arg is the length of each segment. if there are not enough list elements to make a final segment of length n, they are discarded\n",
    "- third arg is how many list elements should overlap btw adjacent segments\n",
    "- remember range is range(inclusive, exclusive), range[0,2] => [0,1]\n",
    "- might want to use 'while' instead of 'for'"
   ]
  },
  {
   "cell_type": "code",
   "execution_count": 13,
   "metadata": {},
   "outputs": [],
   "source": [
    "def partition(lst,seg_len, overlap):\n",
    "    i = 0 \n",
    "    result =[]\n",
    "    while i< len(lst):\n",
    "        seg = lst[i:i+seg_len]\n",
    "        i += seg_len - overlap\n",
    "        if len(seg)< seg_len:\n",
    "            break \n",
    "        else:\n",
    "            result.append(seg)\n",
    "    return result   "
   ]
  },
  {
   "cell_type": "code",
   "execution_count": 14,
   "metadata": {},
   "outputs": [
    {
     "data": {
      "text/plain": [
       "[[0, 1], [2, 3], [4, 5], [6, 7], [8, 9]]"
      ]
     },
     "execution_count": 14,
     "metadata": {},
     "output_type": "execute_result"
    }
   ],
   "source": [
    "partition(list(range(10)), 2, 0)"
   ]
  },
  {
   "cell_type": "code",
   "execution_count": 15,
   "metadata": {},
   "outputs": [
    {
     "data": {
      "text/plain": [
       "[[0, 1, 2], [3, 4, 5], [6, 7, 8]]"
      ]
     },
     "execution_count": 15,
     "metadata": {},
     "output_type": "execute_result"
    }
   ],
   "source": [
    "# only want length 3 partitions, so 9 was discarded\n",
    "\n",
    "partition(list(range(10)), 3, 0)"
   ]
  },
  {
   "cell_type": "code",
   "execution_count": 16,
   "metadata": {},
   "outputs": [
    {
     "data": {
      "text/plain": [
       "[[0, 1], [1, 2], [2, 3], [3, 4], [4, 5], [5, 6], [6, 7], [7, 8], [8, 9]]"
      ]
     },
     "execution_count": 16,
     "metadata": {},
     "output_type": "execute_result"
    }
   ],
   "source": [
    "partition(list(range(10)), 2, 1)"
   ]
  },
  {
   "cell_type": "code",
   "execution_count": 17,
   "metadata": {},
   "outputs": [
    {
     "data": {
      "text/plain": [
       "[[0, 1, 2, 3], [4, 5, 6, 7]]"
      ]
     },
     "execution_count": 17,
     "metadata": {},
     "output_type": "execute_result"
    }
   ],
   "source": [
    "partition(list(range(10)), 4, 0)"
   ]
  },
  {
   "cell_type": "code",
   "execution_count": 18,
   "metadata": {},
   "outputs": [
    {
     "data": {
      "text/plain": [
       "[[0, 1, 2, 3],\n",
       " [1, 2, 3, 4],\n",
       " [2, 3, 4, 5],\n",
       " [3, 4, 5, 6],\n",
       " [4, 5, 6, 7],\n",
       " [5, 6, 7, 8],\n",
       " [6, 7, 8, 9]]"
      ]
     },
     "execution_count": 18,
     "metadata": {},
     "output_type": "execute_result"
    }
   ],
   "source": [
    "partition(list(range(10)), 4, 3)"
   ]
  },
  {
   "cell_type": "markdown",
   "metadata": {},
   "source": [
    "# Problem 3 - define functions rlencode(lst), rldecode(lst)\n",
    "- run length encoding is a simple scheme for lossless compression\n",
    "- compress a list by making a list of ```[element, count]```\n",
    "items, so runs of repeats take less storage\n",
    "- rlencode compresses a list\n",
    "- rldecode recovers the exact original list"
   ]
  },
  {
   "cell_type": "code",
   "execution_count": 19,
   "metadata": {},
   "outputs": [],
   "source": [
    "def rlencode(lst):\n",
    "    order_lst =[]\n",
    "    cnt_lst = []\n",
    "    for x in lst:\n",
    "        if x not in order_lst:\n",
    "            order_lst.append(x)\n",
    "            cnt_lst.append(lst.count(x)) \n",
    "    return [[order_lst[i],cnt_lst[i]] for i in range(len(order_lst))]         "
   ]
  },
  {
   "cell_type": "code",
   "execution_count": 20,
   "metadata": {},
   "outputs": [
    {
     "data": {
      "text/plain": [
       "[[1, 2], [2, 1], [5, 1], [3, 4], [7, 1]]"
      ]
     },
     "execution_count": 20,
     "metadata": {},
     "output_type": "execute_result"
    }
   ],
   "source": [
    "seq = [1,1,2,5,3,3,3,3,7]\n",
    "enc=rlencode(seq)\n",
    "enc"
   ]
  },
  {
   "cell_type": "code",
   "execution_count": 21,
   "metadata": {},
   "outputs": [],
   "source": [
    "def rldecode(lst):\n",
    "    result = []\n",
    "    for l in lst:\n",
    "        result += [l[0]]*l[1]\n",
    "    return result"
   ]
  },
  {
   "cell_type": "code",
   "execution_count": 22,
   "metadata": {},
   "outputs": [
    {
     "data": {
      "text/plain": [
       "[1, 1, 2, 5, 3, 3, 3, 3, 7]"
      ]
     },
     "execution_count": 22,
     "metadata": {},
     "output_type": "execute_result"
    }
   ],
   "source": [
    "rldecode(enc)"
   ]
  },
  {
   "cell_type": "markdown",
   "metadata": {},
   "source": [
    "# Problem 4 - define encrypt and decrypt\n",
    "- encryption again!\n",
    "- the NSA refused to buy my previous algorithm, saying that it \"was not weird enough\". hmm - ok\n",
    "- the output of the encoder is a list of objects\n",
    "- vowels('aeiou') and space(' ') are encoded by objects of a certain type\n",
    "    - the 2nd arg to encrypt specifies the type to object mapping\n",
    "- the other ascii lower case chars are represented by their integer index into the lower case chars\n",
    "- hints\n",
    "    - once you understand the problem, the actual code is very simple, less than 10 lines for my version\n",
    "    - you may find it convenient to use a helper function. for example i define 'decode' and 'decode2'. decode calls decode2\n",
    "    - you may find it convenient to derive a new dict from t2c by swapping the keys and values"
   ]
  },
  {
   "cell_type": "code",
   "execution_count": 23,
   "metadata": {},
   "outputs": [
    {
     "data": {
      "text/plain": [
       "'abcdefghijklmnopqrstuvwxyz'"
      ]
     },
     "execution_count": 23,
     "metadata": {},
     "output_type": "execute_result"
    }
   ],
   "source": [
    "import string\n",
    "\n",
    "string.ascii_lowercase\n"
   ]
  },
  {
   "cell_type": "code",
   "execution_count": 24,
   "metadata": {},
   "outputs": [],
   "source": [
    "# map types into chars\n",
    "t2c = {list: 'a', tuple: 'e', str: 'i', set: 'o', dict: 'u', float: ' '}\n",
    "\n",
    "# map types into objects\n",
    "t2o = {list: [4], tuple: (1,2), str: 'foo', set:set([1,2]), dict: '{}', float: 3.14}\n"
   ]
  },
  {
   "cell_type": "code",
   "execution_count": 25,
   "metadata": {},
   "outputs": [],
   "source": [
    "# the output of the encoder is a list of objects[in t2o]\n",
    "def encode(to_encrypt,mapping_type):\n",
    "    result = []\n",
    "    str_lst = list(to_encrypt)\n",
    "    vowels_lst  = list(\"\".join('aeiou'))\n",
    "    for s in str_lst:\n",
    "        if s in vowels_lst or s ==' ':\n",
    "            a =  list( {k for k,v in t2c.items() if v == s} )[0]\n",
    "            #print(a)\n",
    "            to_add = mapping_type.get(a)\n",
    "            #print(to_add)\n",
    "        else:\n",
    "            to_add = string.ascii_lowercase.index(s)\n",
    "            #print(to_add)\n",
    "        result.append(to_add)\n",
    "    return result        "
   ]
  },
  {
   "cell_type": "code",
   "execution_count": 26,
   "metadata": {
    "scrolled": true
   },
   "outputs": [
    {
     "data": {
      "text/plain": [
       "[[4], 1]"
      ]
     },
     "execution_count": 26,
     "metadata": {},
     "output_type": "execute_result"
    }
   ],
   "source": [
    "# t2c specifies 'a' is encoded by an object of type 'list'. t2o specifies 'list' will be \n",
    "# represented by the list [4]\n",
    "# 'b' is not a vowel, so it is represented by its index into the lower case chars\n",
    "\n",
    "encode('ab', t2o)\n"
   ]
  },
  {
   "cell_type": "code",
   "execution_count": 27,
   "metadata": {
    "scrolled": true
   },
   "outputs": [
    {
     "name": "stdout",
     "output_type": "stream",
     "text": [
      "[{1, 2}, 11, 3, 3.14, 12, 2, 3, {1, 2}, 13, [4], 11, 3, 3.14, 7, [4], 3, 3.14, [4], 3.14, 5, [4], 17, 12]\n"
     ]
    }
   ],
   "source": [
    "msg = 'old mcdonald had a farm'\n",
    "\n",
    "enc = encode(msg, t2o)\n",
    "print(enc)"
   ]
  },
  {
   "cell_type": "code",
   "execution_count": 28,
   "metadata": {},
   "outputs": [],
   "source": [
    "def decode(to_decrypt):\n",
    "    result =[]\n",
    "    # mapping_type = decode2(to_decrypt)\n",
    "    for a in to_decrypt:\n",
    "        if a in decode2(to_decrypt).values():\n",
    "            b = list( {v for k,v in t2c.items() if k == type(a) } )[0]\n",
    "        else:\n",
    "            b = string.ascii_lowercase[a]\n",
    "        result.append(b)\n",
    "    return \"\".join(result)\n",
    "\n",
    "# decode2： to detect what type to object map that encode used\n",
    "def decode2(to_decrypt):\n",
    "    mapping_type ={}\n",
    "    for s in to_decrypt:\n",
    "        if any(x in to_decrypt for x in t2o.values()):\n",
    "            mapping_type = t2o\n",
    "        else:\n",
    "            mapping_type = t2o2\n",
    "    return mapping_type"
   ]
  },
  {
   "cell_type": "code",
   "execution_count": 29,
   "metadata": {},
   "outputs": [
    {
     "data": {
      "text/plain": [
       "'old mcdonald had a farm'"
      ]
     },
     "execution_count": 29,
     "metadata": {},
     "output_type": "execute_result"
    }
   ],
   "source": [
    "decode(enc)"
   ]
  },
  {
   "cell_type": "code",
   "execution_count": 30,
   "metadata": {},
   "outputs": [
    {
     "name": "stdout",
     "output_type": "stream",
     "text": [
      "[{233, 11}, 11, 3, 2.71, 12, 2, 3, {233, 11}, 13, [5, 6], 11, 3, 2.71, 7, [5, 6], 3, 2.71, [5, 6], 2.71, 5, [5, 6], 17, 12]\n"
     ]
    }
   ],
   "source": [
    "# a different class:object mapping\n",
    "\n",
    "t2o2 = {list: [5,6], tuple: (2,1), str: 'bar', set:set([11,233]), dict: '{3:8}', float: 2.71}\n",
    "\n",
    "enc2 = encode(msg, t2o2)\n",
    "print(enc2)"
   ]
  },
  {
   "cell_type": "code",
   "execution_count": 31,
   "metadata": {},
   "outputs": [
    {
     "data": {
      "text/plain": [
       "'old mcdonald had a farm'"
      ]
     },
     "execution_count": 31,
     "metadata": {},
     "output_type": "execute_result"
    }
   ],
   "source": [
    "# note decode doesn't need to know what type to object map that encode used\n",
    "\n",
    "decode(enc2)"
   ]
  },
  {
   "cell_type": "markdown",
   "metadata": {},
   "source": [
    "# Problem 5 - Convert DNA to Amino Acids\n",
    "- dna is a string of DNA bases\n",
    "- each successive 3 bases in DNA defines an amino acid\n",
    "- convert the dna_amino string to a dict called 'aa'"
   ]
  },
  {
   "cell_type": "code",
   "execution_count": 32,
   "metadata": {},
   "outputs": [],
   "source": [
    "dna_amino='''\n",
    "TTT F      CTT L      ATT I      GTT V\n",
    "TTC F      CTC L      ATC I      GTC V\n",
    "TTA L      CTA L      ATA I      GTA V\n",
    "TTG L      CTG L      ATG M      GTG V\n",
    "TCT S      CCT P      ACT T      GCT A\n",
    "TCC S      CCC P      ACC T      GCC A\n",
    "TCA S      CCA P      ACA T      GCA A\n",
    "TCG S      CCG P      ACG T      GCG A\n",
    "TAT Y      CAT H      AAT N      GAT D\n",
    "TAC Y      CAC H      AAC N      GAC D\n",
    "CAA Q      AAA K      GAA E\n",
    "CAG Q      AAG K      GAG E\n",
    "TGT C      CGT R      AGT S      GGT G\n",
    "TGC C      CGC R      AGC S      GGC G\n",
    "CGA R      AGA R      GGA G\n",
    "TGG W      CGG R      AGG R      GGG G\n",
    "'''"
   ]
  },
  {
   "cell_type": "code",
   "execution_count": 33,
   "metadata": {},
   "outputs": [],
   "source": [
    "dna_amino_lst = dna_amino.split()\n",
    "amino_acid = []\n",
    "dna_lst =[]\n",
    "for i in range(0,len(dna_amino_lst),2):\n",
    "    dna_lst.append(dna_amino_lst[i])\n",
    "    amino_acid.append(dna_amino_lst[i+1 ])\n",
    "aa = dict( zip(dna_lst, amino_acid ))"
   ]
  },
  {
   "cell_type": "code",
   "execution_count": 34,
   "metadata": {},
   "outputs": [
    {
     "data": {
      "text/plain": [
       "('W', 'R', 'P')"
      ]
     },
     "execution_count": 34,
     "metadata": {},
     "output_type": "execute_result"
    }
   ],
   "source": [
    "aa['TGG'], aa['CGG'], aa['CCA']"
   ]
  },
  {
   "cell_type": "code",
   "execution_count": 35,
   "metadata": {},
   "outputs": [
    {
     "data": {
      "text/plain": [
       "60"
      ]
     },
     "execution_count": 35,
     "metadata": {},
     "output_type": "execute_result"
    }
   ],
   "source": [
    "dna='TGCGGCCCTTACCCATATGTCTCTTACTGTCGCTTTCCGGGTGAATCCTATCCCATTCTA'\n",
    "len(dna)"
   ]
  },
  {
   "cell_type": "markdown",
   "metadata": {},
   "source": [
    "# define function dnaToAminoAcids(dna)\n",
    "- convert the dna to a string of amino acids\n",
    "- use aa dict"
   ]
  },
  {
   "cell_type": "code",
   "execution_count": 36,
   "metadata": {},
   "outputs": [],
   "source": [
    "def dnaToAminoAcids(str):\n",
    "    acids=''\n",
    "    for i in range(0,len(str),3):\n",
    "        acids+= aa[str[i:i+3]]\n",
    "    return acids   \n",
    "    "
   ]
  },
  {
   "cell_type": "code",
   "execution_count": 37,
   "metadata": {},
   "outputs": [
    {
     "data": {
      "text/plain": [
       "('CGPYPYVSYCRFPGESYPIL', 20)"
      ]
     },
     "execution_count": 37,
     "metadata": {},
     "output_type": "execute_result"
    }
   ],
   "source": [
    "acids=dnaToAminoAcids(dna)\n",
    "acids, len(acids)"
   ]
  },
  {
   "cell_type": "markdown",
   "metadata": {},
   "source": [
    "# If you have a minute or two...\n",
    "- look at week2-12-example-pythonic, see if you can figure out what it does\n",
    "- i'll go over it in class\n",
    "- this question is OPTIONAL, NOT GRADED"
   ]
  }
 ],
 "metadata": {
  "kernelspec": {
   "display_name": "Python 3",
   "language": "python",
   "name": "python3"
  },
  "language_info": {
   "codemirror_mode": {
    "name": "ipython",
    "version": 3
   },
   "file_extension": ".py",
   "mimetype": "text/x-python",
   "name": "python",
   "nbconvert_exporter": "python",
   "pygments_lexer": "ipython3",
   "version": "3.7.3"
  }
 },
 "nbformat": 4,
 "nbformat_minor": 2
}
