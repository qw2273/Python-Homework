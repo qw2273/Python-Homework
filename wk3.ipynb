{
 "cells": [
  {
   "cell_type": "markdown",
   "metadata": {},
   "source": [
    "# Introduction to Python\n",
    "# Homework #3\n",
    "# Due Friday Noon Sept 27 in Courseworks\n",
    "- You MUST submit on Courseworks before it closes\n",
    "- Email submissions are NOT accepted"
   ]
  },
  {
   "cell_type": "markdown",
   "metadata": {},
   "source": [
    "# Academic Honesty\n",
    "* The computer science department has strict polices. Check\n",
    "the department [web page](http://www.cs.columbia.edu/education/honesty) for details. \n",
    "- Do not look at anybody else's source code. Do not show anybody\n",
    "your source, or leave your source where somebody could see it.\n",
    "You MUST write your own code.\n",
    "- For this class, feel free to discuss issues with other people, but suggest waiting an hour or two after a discussion, before writing your code.\n",
    "-  Cases of non original source will be refered to the Judical Committee.\n",
    "\n"
   ]
  },
  {
   "cell_type": "markdown",
   "metadata": {},
   "source": [
    "# tips\n",
    "- 'self' must be the first arg to every method\n",
    "- use the 'self.' prefix to refer to instance variables or other methods inside a method "
   ]
  },
  {
   "cell_type": "markdown",
   "metadata": {},
   "source": [
    "# Problem 1 & 2 - Constraints\n",
    "- suppose we want to convert between C(Celsius) and F(Fahrenheit), using the equation 9*C = 5*(F-32)\n",
    "- could write functions 'c2f' and 'f2c'"
   ]
  },
  {
   "cell_type": "code",
   "execution_count": 1,
   "metadata": {},
   "outputs": [],
   "source": [
    "def c2f(c):\n",
    "    return( (9.*c + 5. * 32.)/5. )\n",
    "\n",
    "def f2c(f):\n",
    "    return( 5.*(f  - 32)/9. )"
   ]
  },
  {
   "cell_type": "code",
   "execution_count": 2,
   "metadata": {},
   "outputs": [
    {
     "data": {
      "text/plain": [
       "[32.0, 212.0, 0.0, 100.0]"
      ]
     },
     "execution_count": 2,
     "metadata": {},
     "output_type": "execute_result"
    }
   ],
   "source": [
    "[c2f(0), c2f(100), f2c(32), f2c(212)]"
   ]
  },
  {
   "cell_type": "markdown",
   "metadata": {},
   "source": [
    "- to write f2c, we solved the equation for C, and made a function out of the other side of the equation\n",
    "- to write c2f, we solved for F, ...\n",
    "- there is another way to think about this \n",
    "- rearrange the equation into a symmetric form\n",
    "\n",
    "```\n",
    "9*C - 5*F = -32*5\n",
    "```\n",
    "\n",
    "- you can think of the equation above as a \"constraint\" between F and C. if you specify one variable, \n",
    "the other's value is determined by the equation. in general, if we have\n",
    "\n",
    "```\n",
    "c0*x0 + c1*x1 + ... cN*xN = total\n",
    "```\n",
    "\n",
    "- cI are fixed coefficients\n",
    "- specifying any N of the (N+1) x's will determine the remaining x variable\n"
   ]
  },
  {
   "cell_type": "markdown",
   "metadata": {},
   "source": [
    "# Build a 'Constraint' class that performs these computations\n",
    "- init and repr methods are defined for you"
   ]
  },
  {
   "cell_type": "markdown",
   "metadata": {},
   "source": [
    "# define the 'setvar' method on the 'Constraint' class\n",
    "- 1st arg is a variable name\n",
    "    - raise a 'ValueError' if given a bad variable name\n",
    "- 2nd arg is the new variable value\n",
    "- if only one undefined variable is left, fire the 'constraint satisfaction'\n",
    "    - print the variable values\n",
    "    - return them in a list\n",
    "    - clear all variable values\n",
    "- otherwise just record the new variable value\n",
    "- do all internal computation in floating point"
   ]
  },
  {
   "cell_type": "code",
   "execution_count": 3,
   "metadata": {},
   "outputs": [],
   "source": [
    "class Constraint:\n",
    "    def __init__(self, varnames, coes, total):\n",
    "        '''\n",
    "        1st arg is a list of the variable names, \n",
    "        2nd arg is list of coefficients for the variables\n",
    "        3rd arg is the constant total'''\n",
    "        self.varnames = varnames\n",
    "        self.coes= [float(c) for c in coes]\n",
    "        self.total = float(total)\n",
    "        self.varvals = [None] * len(coes)\n",
    "    \n",
    "    def __repr__(self):\n",
    "        # display the status of the constraint\n",
    "        # show which vars have values\n",
    "        x = ' + '.join(['{}*{}(={})'.format(coe, var, val) \n",
    "                        for coe,var,val in zip(self.coes, \n",
    "                            self.varnames, self.varvals)])\n",
    "        return 'Constraint({}={})'.format(self.total, x)\n",
    "\n",
    "    # add your setvar method here\n",
    "    def setvar(self, v_name, v_value):    \n",
    "        if v_name not in self.varnames:\n",
    "            raise ValueError('varname {} is not defined in {}'.format(v_name,self.varnames))\n",
    "        index = self.varnames.index(v_name) # find out the location of the input you give \n",
    "        self.varvals[index] = float(v_value) # update value in varvals with format float \n",
    "\n",
    "        while self.varvals.count(None)==1:\n",
    "            to_return = self.varvals        # make copy of varvals and total sum \n",
    "            total_cpy = self.total \n",
    "            to_calc_index = to_return.index(None)   # record the index of the variable to be calcualted \n",
    "            to_calc_coef = self.coes[to_calc_index] # find the coefficient associate with it \n",
    "            for e1,e2 in zip(self.coes,to_return):\n",
    "                if not (e1 is None or e2 is None):\n",
    "                    total_cpy -= e1*e2\n",
    "            to_return[to_calc_index] = total_cpy/to_calc_coef  #update the value of that variable \n",
    "            for a, b in zip(self.varnames, to_return):\n",
    "                print('{} = {}'.format(a, b))\n",
    "            self.varvals = [None] * len(self.coes) #clear all values \n",
    "\n",
    "            return to_return \n",
    "\n"
   ]
  },
  {
   "cell_type": "markdown",
   "metadata": {},
   "source": [
    "# hint - you may find 'dotnone' to be helpful"
   ]
  },
  {
   "cell_type": "code",
   "execution_count": 4,
   "metadata": {},
   "outputs": [],
   "source": [
    "# regular dot product, except that if one or both \n",
    "# values in a pair is 'None',\n",
    "# that term is defined to contribute 0 to the sum\n",
    "# l1, l2 is list \n",
    "def dotnone(l1, l2):  \n",
    "    '''yet another dot product variant'''\n",
    "    sum = 0\n",
    "    for e1,e2 in zip(l1,l2):\n",
    "        if not (e1 is None or e2 is None):            \n",
    "            sum += e1 * e2\n",
    "    return(sum)"
   ]
  },
  {
   "cell_type": "code",
   "execution_count": 5,
   "metadata": {
    "scrolled": true
   },
   "outputs": [
    {
     "data": {
      "text/plain": [
       "[32, 22, 0]"
      ]
     },
     "execution_count": 5,
     "metadata": {},
     "output_type": "execute_result"
    }
   ],
   "source": [
    "[dotnone([1,2,3], [4,5,6]), \n",
    "dotnone([1,None,3], [4,5,6]), \n",
    "dotnone([None,1], [2,None])]"
   ]
  },
  {
   "cell_type": "markdown",
   "metadata": {},
   "source": [
    "# Example - setup C & F constraint\n",
    "\n",
    "- given equation 9*C - 5*F = -32*5, we can setup a constraint like this:\n",
    "- string computed by repr method shows C & F initially have no values(=None)"
   ]
  },
  {
   "cell_type": "code",
   "execution_count": 6,
   "metadata": {},
   "outputs": [
    {
     "data": {
      "text/plain": [
       "Constraint(-160.0=9.0*C(=None) + -5.0*F(=None))"
      ]
     },
     "execution_count": 6,
     "metadata": {},
     "output_type": "execute_result"
    }
   ],
   "source": [
    "c = Constraint(['C', 'F'], [9,-5], -5*32)\n",
    "c"
   ]
  },
  {
   "cell_type": "code",
   "execution_count": 7,
   "metadata": {},
   "outputs": [
    {
     "name": "stdout",
     "output_type": "stream",
     "text": [
      "C = 100.0\n",
      "F = 212.0\n"
     ]
    },
    {
     "data": {
      "text/plain": [
       "[100.0, 212.0]"
      ]
     },
     "execution_count": 7,
     "metadata": {},
     "output_type": "execute_result"
    }
   ],
   "source": [
    "c.setvar('C', 100)"
   ]
  },
  {
   "cell_type": "code",
   "execution_count": 8,
   "metadata": {},
   "outputs": [
    {
     "ename": "ValueError",
     "evalue": "varname foo is not defined in ['C', 'F']",
     "output_type": "error",
     "traceback": [
      "\u001b[0;31m---------------------------------------------------------------------------\u001b[0m",
      "\u001b[0;31mValueError\u001b[0m                                Traceback (most recent call last)",
      "\u001b[0;32m<ipython-input-8-25d70845560d>\u001b[0m in \u001b[0;36m<module>\u001b[0;34m\u001b[0m\n\u001b[1;32m      1\u001b[0m \u001b[0;31m# bad variable name - raise an error\u001b[0m\u001b[0;34m\u001b[0m\u001b[0;34m\u001b[0m\u001b[0;34m\u001b[0m\u001b[0m\n\u001b[1;32m      2\u001b[0m \u001b[0;34m\u001b[0m\u001b[0m\n\u001b[0;32m----> 3\u001b[0;31m \u001b[0mc\u001b[0m\u001b[0;34m.\u001b[0m\u001b[0msetvar\u001b[0m\u001b[0;34m(\u001b[0m\u001b[0;34m'foo'\u001b[0m\u001b[0;34m,\u001b[0m \u001b[0;36m0\u001b[0m\u001b[0;34m)\u001b[0m\u001b[0;34m\u001b[0m\u001b[0;34m\u001b[0m\u001b[0m\n\u001b[0m\u001b[1;32m      4\u001b[0m \u001b[0mc\u001b[0m\u001b[0;34m\u001b[0m\u001b[0;34m\u001b[0m\u001b[0m\n",
      "\u001b[0;32m<ipython-input-3-ccd80bce5285>\u001b[0m in \u001b[0;36msetvar\u001b[0;34m(self, v_name, v_value)\u001b[0m\n\u001b[1;32m     21\u001b[0m     \u001b[0;32mdef\u001b[0m \u001b[0msetvar\u001b[0m\u001b[0;34m(\u001b[0m\u001b[0mself\u001b[0m\u001b[0;34m,\u001b[0m \u001b[0mv_name\u001b[0m\u001b[0;34m,\u001b[0m \u001b[0mv_value\u001b[0m\u001b[0;34m)\u001b[0m\u001b[0;34m:\u001b[0m\u001b[0;34m\u001b[0m\u001b[0;34m\u001b[0m\u001b[0m\n\u001b[1;32m     22\u001b[0m         \u001b[0;32mif\u001b[0m \u001b[0mv_name\u001b[0m \u001b[0;32mnot\u001b[0m \u001b[0;32min\u001b[0m \u001b[0mself\u001b[0m\u001b[0;34m.\u001b[0m\u001b[0mvarnames\u001b[0m\u001b[0;34m:\u001b[0m\u001b[0;34m\u001b[0m\u001b[0;34m\u001b[0m\u001b[0m\n\u001b[0;32m---> 23\u001b[0;31m             \u001b[0;32mraise\u001b[0m \u001b[0mValueError\u001b[0m\u001b[0;34m(\u001b[0m\u001b[0;34m'varname {} is not defined in {}'\u001b[0m\u001b[0;34m.\u001b[0m\u001b[0mformat\u001b[0m\u001b[0;34m(\u001b[0m\u001b[0mv_name\u001b[0m\u001b[0;34m,\u001b[0m\u001b[0mself\u001b[0m\u001b[0;34m.\u001b[0m\u001b[0mvarnames\u001b[0m\u001b[0;34m)\u001b[0m\u001b[0;34m)\u001b[0m\u001b[0;34m\u001b[0m\u001b[0;34m\u001b[0m\u001b[0m\n\u001b[0m\u001b[1;32m     24\u001b[0m         \u001b[0mindex\u001b[0m \u001b[0;34m=\u001b[0m \u001b[0mself\u001b[0m\u001b[0;34m.\u001b[0m\u001b[0mvarnames\u001b[0m\u001b[0;34m.\u001b[0m\u001b[0mindex\u001b[0m\u001b[0;34m(\u001b[0m\u001b[0mv_name\u001b[0m\u001b[0;34m)\u001b[0m \u001b[0;31m# find out the location of the input you give\u001b[0m\u001b[0;34m\u001b[0m\u001b[0;34m\u001b[0m\u001b[0m\n\u001b[1;32m     25\u001b[0m         \u001b[0mself\u001b[0m\u001b[0;34m.\u001b[0m\u001b[0mvarvals\u001b[0m\u001b[0;34m[\u001b[0m\u001b[0mindex\u001b[0m\u001b[0;34m]\u001b[0m \u001b[0;34m=\u001b[0m \u001b[0mfloat\u001b[0m\u001b[0;34m(\u001b[0m\u001b[0mv_value\u001b[0m\u001b[0;34m)\u001b[0m \u001b[0;31m# update value in varvals with format float\u001b[0m\u001b[0;34m\u001b[0m\u001b[0;34m\u001b[0m\u001b[0m\n",
      "\u001b[0;31mValueError\u001b[0m: varname foo is not defined in ['C', 'F']"
     ]
    }
   ],
   "source": [
    "# bad variable name - raise an error\n",
    "\n",
    "c.setvar('foo', 0)\n",
    "c"
   ]
  },
  {
   "cell_type": "code",
   "execution_count": 9,
   "metadata": {},
   "outputs": [
    {
     "name": "stdout",
     "output_type": "stream",
     "text": [
      "C = 100.0\n",
      "F = 212.0\n"
     ]
    },
    {
     "data": {
      "text/plain": [
       "[100.0, 212.0]"
      ]
     },
     "execution_count": 9,
     "metadata": {},
     "output_type": "execute_result"
    }
   ],
   "source": [
    "c.setvar('F', 212)"
   ]
  },
  {
   "cell_type": "markdown",
   "metadata": {},
   "source": [
    "# more complex example\n",
    "- 5 constraint variables"
   ]
  },
  {
   "cell_type": "code",
   "execution_count": 10,
   "metadata": {},
   "outputs": [
    {
     "data": {
      "text/plain": [
       "Constraint(1.0=0.0*x0(=None) + 1.0*x1(=None) + 2.0*x2(=None) + 3.0*x3(=None) + 4.0*x4(=None))"
      ]
     },
     "execution_count": 10,
     "metadata": {},
     "output_type": "execute_result"
    }
   ],
   "source": [
    "c2 = Constraint(['x0', 'x1', 'x2', 'x3', 'x4'], range(5), 1)\n",
    "c2"
   ]
  },
  {
   "cell_type": "code",
   "execution_count": 11,
   "metadata": {},
   "outputs": [
    {
     "data": {
      "text/plain": [
       "Constraint(1.0=0.0*x0(=None) + 1.0*x1(=10.0) + 2.0*x2(=None) + 3.0*x3(=None) + 4.0*x4(=None))"
      ]
     },
     "execution_count": 11,
     "metadata": {},
     "output_type": "execute_result"
    }
   ],
   "source": [
    "c2.setvar('x1', 10)\n",
    "c2"
   ]
  },
  {
   "cell_type": "code",
   "execution_count": 12,
   "metadata": {},
   "outputs": [
    {
     "data": {
      "text/plain": [
       "Constraint(1.0=0.0*x0(=0.0) + 1.0*x1(=10.0) + 2.0*x2(=None) + 3.0*x3(=None) + 4.0*x4(=None))"
      ]
     },
     "execution_count": 12,
     "metadata": {},
     "output_type": "execute_result"
    }
   ],
   "source": [
    "c2.setvar('x0', 0)\n",
    "c2"
   ]
  },
  {
   "cell_type": "code",
   "execution_count": 13,
   "metadata": {},
   "outputs": [
    {
     "data": {
      "text/plain": [
       "Constraint(1.0=0.0*x0(=0.0) + 1.0*x1(=10.0) + 2.0*x2(=20.0) + 3.0*x3(=None) + 4.0*x4(=None))"
      ]
     },
     "execution_count": 13,
     "metadata": {},
     "output_type": "execute_result"
    }
   ],
   "source": [
    "# x2\n",
    "\n",
    "c2.setvar('x2',20)\n",
    "c2"
   ]
  },
  {
   "cell_type": "code",
   "execution_count": 14,
   "metadata": {},
   "outputs": [
    {
     "name": "stdout",
     "output_type": "stream",
     "text": [
      "x0 = 0.0\n",
      "x1 = 10.0\n",
      "x2 = 20.0\n",
      "x3 = -56.333333333333336\n",
      "x4 = 30.0\n"
     ]
    },
    {
     "data": {
      "text/plain": [
       "[0.0, 10.0, 20.0, -56.333333333333336, 30.0]"
      ]
     },
     "execution_count": 14,
     "metadata": {},
     "output_type": "execute_result"
    }
   ],
   "source": [
    "# only two unset vars left, so setting x3 or x4 \n",
    "# will fire the constraints\n",
    "\n",
    "c2.setvar('x4', 30)"
   ]
  },
  {
   "cell_type": "markdown",
   "metadata": {},
   "source": [
    "# sketchpad(1962)\n",
    "- IMHO, [sketchpad](https://en.wikipedia.org/wiki/Sketchpad) is the greatest CS Phd thesis ever. \n",
    "- among other things, Ivan Sutherland invented constraint systems, interactive computer graphics, CAD, object oriented programming, and visual programming\n",
    "- the computer he used had 33K of memory!\n",
    "- if you have a few minutes sometime, watch [sketchpad video from summer 1962](https://www.youtube.com/watch?v=495nCzxM9PI)"
   ]
  },
  {
   "cell_type": "markdown",
   "metadata": {},
   "source": [
    "# Problem 3a - define function rcount\n",
    "- recursively count number of elements in a nested list\n",
    "- a common pattern for recursing thru a nested list is to split the list into the first element(the head), and the rest of the list(the tail), and recurse on each"
   ]
  },
  {
   "cell_type": "code",
   "execution_count": 15,
   "metadata": {},
   "outputs": [],
   "source": [
    "# 计算list中的元素总个数\n",
    "def rcount(lst):\n",
    "    cnt = 0 \n",
    "    for x in lst:\n",
    "        if type(x) is not int:\n",
    "            cnt = cnt + rcount(x)\n",
    "        else:\n",
    "            cnt += 1\n",
    "    return cnt "
   ]
  },
  {
   "cell_type": "code",
   "execution_count": 16,
   "metadata": {},
   "outputs": [
    {
     "data": {
      "text/plain": [
       "(0, 9)"
      ]
     },
     "execution_count": 16,
     "metadata": {},
     "output_type": "execute_result"
    }
   ],
   "source": [
    "rcount([]), rcount([1,2,[3,4,[5,6,7],8],9])"
   ]
  },
  {
   "cell_type": "markdown",
   "metadata": {},
   "source": [
    "# Problem 3b - Recursively Sum Dictionary(rsd)\n",
    "- argument: dictionary\n",
    "- returns: sum of numbers found in dictionary values\n",
    "- sum of an empty dict is 0\n",
    "- a dictionary value is either a number or a dictionary\n",
    "- almost the same as 'rsl', but there are no \"slices\" for \n",
    "dictionaries - have to split it a different way\n",
    "- popitem() method on dict may be useful"
   ]
  },
  {
   "cell_type": "code",
   "execution_count": 17,
   "metadata": {},
   "outputs": [],
   "source": [
    "def rsd(dic):\n",
    "    sum = 0 \n",
    "    for x in dic:\n",
    "        if type(dic[x]) is not int:\n",
    "            sum = sum + rsd(dic[x])\n",
    "            \n",
    "        else:\n",
    "            sum += dic[x]\n",
    "    return sum"
   ]
  },
  {
   "cell_type": "code",
   "execution_count": 18,
   "metadata": {
    "scrolled": true
   },
   "outputs": [
    {
     "data": {
      "text/plain": [
       "{0: 0, 1: 2, 2: 4, 3: 6, 4: 8, 'foo': {'bar': 5, 'zap': 10}}"
      ]
     },
     "execution_count": 18,
     "metadata": {},
     "output_type": "execute_result"
    }
   ],
   "source": [
    "d = {j:j*2 for j in range(5)}\n",
    "d['foo'] = {'bar':5, 'zap':10}\n",
    "d"
   ]
  },
  {
   "cell_type": "code",
   "execution_count": 19,
   "metadata": {},
   "outputs": [
    {
     "data": {
      "text/plain": [
       "(0, 35)"
      ]
     },
     "execution_count": 19,
     "metadata": {},
     "output_type": "execute_result"
    }
   ],
   "source": [
    "rsd({}), rsd(d)"
   ]
  },
  {
   "cell_type": "markdown",
   "metadata": {},
   "source": [
    "# Problem 4 & 5 - vending machine\n",
    "- use objects to simulate a vending machine\n",
    "- money is in units of cents"
   ]
  },
  {
   "cell_type": "markdown",
   "metadata": {},
   "source": [
    "# class venditem represents a type of item for sale\n",
    "- has three instance variables\n",
    "    - name, price, quantity\n",
    "- define four methods\n",
    "    - `method __init__` loads data into the instance variables\n",
    "        - def `__init__`(self, name, price, quantity):\n",
    "    - `method __repr__`(self)\n",
    "        - controls how venditem prints\n",
    "        - use string format method\n",
    "            - '{} {}'.format(arg, arg2)\n",
    "        - see examples below\n",
    "    - `method __str__`(self)\n",
    "        - just call `__repr__` for string to return\n",
    "    - method sale(self)\n",
    "        - decrement the quantity "
   ]
  },
  {
   "cell_type": "code",
   "execution_count": 20,
   "metadata": {},
   "outputs": [],
   "source": [
    "class venditem:\n",
    "    def __init__(self,name, price, quantity):\n",
    "        self.name = name\n",
    "        self.price = price\n",
    "        self.quantity = quantity\n",
    "    def __repr__(self):\n",
    "        return 'venditem(name=\\'{}\\', price={}, quantity={})'.format(str(self.name), self.price,self.quantity)\n",
    "    def sale(self):\n",
    "        self.quantity -=1 \n",
    "        "
   ]
  },
  {
   "cell_type": "code",
   "execution_count": 21,
   "metadata": {},
   "outputs": [
    {
     "data": {
      "text/plain": [
       "[venditem(name='coke', price=95, quantity=3),\n",
       " venditem(name='pepsi', price=110, quantity=1)]"
      ]
     },
     "execution_count": 21,
     "metadata": {},
     "output_type": "execute_result"
    }
   ],
   "source": [
    "# __repr__ method shows object status\n",
    "\n",
    "vi = venditem('coke', 95, 3)\n",
    "vi2 = venditem('pepsi', 110, 1)\n",
    "\n",
    "[vi, vi2]"
   ]
  },
  {
   "cell_type": "code",
   "execution_count": 22,
   "metadata": {},
   "outputs": [
    {
     "data": {
      "text/plain": [
       "venditem(name='coke', price=95, quantity=2)"
      ]
     },
     "execution_count": 22,
     "metadata": {},
     "output_type": "execute_result"
    }
   ],
   "source": [
    "# sale method decrements quantity instance variable\n",
    "\n",
    "vi.sale()\n",
    "vi"
   ]
  },
  {
   "cell_type": "code",
   "execution_count": 23,
   "metadata": {},
   "outputs": [
    {
     "data": {
      "text/plain": [
       "['coke', 'pepsi', 95, 2, 1]"
      ]
     },
     "execution_count": 23,
     "metadata": {},
     "output_type": "execute_result"
    }
   ],
   "source": [
    "# note you can access instance variables directly:\n",
    "\n",
    "[vi.name, vi2.name, vi.price, vi.quantity, vi2.quantity]"
   ]
  },
  {
   "cell_type": "code",
   "execution_count": 24,
   "metadata": {},
   "outputs": [
    {
     "data": {
      "text/plain": [
       "2"
      ]
     },
     "execution_count": 24,
     "metadata": {},
     "output_type": "execute_result"
    }
   ],
   "source": [
    "# can set same way\n",
    "\n",
    "vi.quantity = 2\n",
    "vi.quantity"
   ]
  },
  {
   "cell_type": "markdown",
   "metadata": {},
   "source": [
    "# class vendmachine \n",
    "- vendmachine has two instance variables\n",
    "    - 'cash' - the amount of money the machine has collected from item sales\n",
    "    - 'items' - a dictionary, where keys are the name of an item, and the values are the venditem object\n",
    "- define three methods(log method is done for you)\n",
    "    - `__init__`(self, stock)\n",
    "        - 1st arg - stock is a list of venditems, which represents what is loaded in the machine\n",
    "        - items dictionary should be constructed from stock\n",
    "        - cash should be initialized to 0\n",
    "    - buy(self, name, money) \n",
    "        - 'name' is 'coke', 'pepsi', etc\n",
    "        - money is how much money the customer deposited for the purchase\n",
    "        - four cases\n",
    "            - customer asks for an item not carried\n",
    "            - customer asks for an item whose quantity is 0 - out of stock\n",
    "            - customer doesn't put in enough money for the item\n",
    "            - everything ok, sell the item, decrement item quantity\n",
    "        - 'buy' return value should refund any money owed the customer \n",
    "            - money not applied to an item sale\n",
    "            - excess money deposited for an item sale\n",
    "        - log each buy case, using provided 'log' method\n",
    "        - see examples below\n",
    "    - status(self)\n",
    "        - prints the amount of cash collected, and each of the items in stock\n",
    "    "
   ]
  },
  {
   "cell_type": "code",
   "execution_count": 25,
   "metadata": {},
   "outputs": [],
   "source": [
    "import time\n",
    "\n",
    "class vendmachine:\n",
    "    def __init__(self, stock):\n",
    "        self.stock = stock \n",
    "        self.cash = 0 \n",
    "        self.items = {}\n",
    "        for x in stock:\n",
    "            self.items[x.name] = venditem(x.name, x.price,x.quantity)\n",
    "     \n",
    "    def log(self, msg, name):\n",
    "        t = time.strftime('%X %x %Z - ')\n",
    "        msg = t + msg + ': ' + name\n",
    "        print(msg)\n",
    "    \n",
    "    # your methods here\n",
    "    def buy(self, name, money):\n",
    "        msg =''\n",
    "        \n",
    "        if name not in list(self.items.keys()):\n",
    "            msg = 'dont carry it' \n",
    "\n",
    "        elif self.items.get(name).quantity == 0:\n",
    "            msg = 'out of stock'\n",
    "\n",
    "\n",
    "        elif money < self.items.get(name).price:\n",
    "            msg =  'insufficient funds for'\n",
    "\n",
    "        else:\n",
    "            self.items.get(name).sale()\n",
    "            money -= self.items.get(name).price\n",
    "            self.cash += self.items.get(name).price\n",
    "            msg = 'sold'\n",
    "        \n",
    "        self.log(msg,name)\n",
    "        return(money)\n",
    "        \n",
    "    def status(self):\n",
    "        print('cash collected: {}'.format(self.cash))\n",
    "        for x in self.items.keys():\n",
    "            print(self.items.get(x))"
   ]
  },
  {
   "cell_type": "code",
   "execution_count": 26,
   "metadata": {
    "scrolled": true
   },
   "outputs": [
    {
     "name": "stdout",
     "output_type": "stream",
     "text": [
      "cash collected: 0\n",
      "venditem(name='coke', price=95, quantity=3)\n",
      "venditem(name='pepsi', price=110, quantity=1)\n",
      "venditem(name='peanut M&Ms', price=100, quantity=2)\n"
     ]
    }
   ],
   "source": [
    "# make stock for sale and load vendmachine\n",
    "\n",
    "vi = venditem('coke', 95, 3)\n",
    "vi2 = venditem('pepsi', 110, 1)\n",
    "vi3 = venditem('peanut M&Ms', 100, 2)\n",
    "# vi4 = venditem('spirt', 100, 0)\n",
    "stock = [vi, vi2, vi3]\n",
    "\n",
    "vm = vendmachine(stock)\n",
    "vm.status()"
   ]
  },
  {
   "cell_type": "code",
   "execution_count": 27,
   "metadata": {},
   "outputs": [
    {
     "name": "stdout",
     "output_type": "stream",
     "text": [
      "01:20:41 09/27/19 EDT - insufficient funds for: coke\n"
     ]
    },
    {
     "data": {
      "text/plain": [
       "45"
      ]
     },
     "execution_count": 27,
     "metadata": {},
     "output_type": "execute_result"
    }
   ],
   "source": [
    "vm.buy('coke', 45)"
   ]
  },
  {
   "cell_type": "code",
   "execution_count": 28,
   "metadata": {},
   "outputs": [
    {
     "name": "stdout",
     "output_type": "stream",
     "text": [
      "01:20:41 09/27/19 EDT - sold: pepsi\n"
     ]
    },
    {
     "data": {
      "text/plain": [
       "90"
      ]
     },
     "execution_count": 28,
     "metadata": {},
     "output_type": "execute_result"
    }
   ],
   "source": [
    "vm.buy('pepsi', 200)"
   ]
  },
  {
   "cell_type": "code",
   "execution_count": 29,
   "metadata": {},
   "outputs": [
    {
     "name": "stdout",
     "output_type": "stream",
     "text": [
      "cash collected: 110\n",
      "venditem(name='coke', price=95, quantity=3)\n",
      "venditem(name='pepsi', price=110, quantity=0)\n",
      "venditem(name='peanut M&Ms', price=100, quantity=2)\n"
     ]
    }
   ],
   "source": [
    "vm.status()"
   ]
  },
  {
   "cell_type": "code",
   "execution_count": 30,
   "metadata": {},
   "outputs": [
    {
     "name": "stdout",
     "output_type": "stream",
     "text": [
      "01:20:42 09/27/19 EDT - out of stock: pepsi\n"
     ]
    },
    {
     "data": {
      "text/plain": [
       "200"
      ]
     },
     "execution_count": 30,
     "metadata": {},
     "output_type": "execute_result"
    }
   ],
   "source": [
    "vm.buy('pepsi', 200)"
   ]
  },
  {
   "cell_type": "code",
   "execution_count": 31,
   "metadata": {},
   "outputs": [
    {
     "name": "stdout",
     "output_type": "stream",
     "text": [
      "01:20:42 09/27/19 EDT - dont carry it: mountain dew\n"
     ]
    },
    {
     "data": {
      "text/plain": [
       "200"
      ]
     },
     "execution_count": 31,
     "metadata": {},
     "output_type": "execute_result"
    }
   ],
   "source": [
    "vm.buy('mountain dew', 200)"
   ]
  },
  {
   "cell_type": "code",
   "execution_count": 32,
   "metadata": {},
   "outputs": [
    {
     "name": "stdout",
     "output_type": "stream",
     "text": [
      "01:20:42 09/27/19 EDT - sold: coke\n"
     ]
    },
    {
     "data": {
      "text/plain": [
       "5"
      ]
     },
     "execution_count": 32,
     "metadata": {},
     "output_type": "execute_result"
    }
   ],
   "source": [
    "vm.buy('coke', 100)"
   ]
  },
  {
   "cell_type": "code",
   "execution_count": 33,
   "metadata": {
    "scrolled": true
   },
   "outputs": [
    {
     "name": "stdout",
     "output_type": "stream",
     "text": [
      "cash collected: 205\n",
      "venditem(name='coke', price=95, quantity=2)\n",
      "venditem(name='pepsi', price=110, quantity=0)\n",
      "venditem(name='peanut M&Ms', price=100, quantity=2)\n"
     ]
    }
   ],
   "source": [
    "vm.status()"
   ]
  },
  {
   "cell_type": "code",
   "execution_count": null,
   "metadata": {},
   "outputs": [],
   "source": []
  },
  {
   "cell_type": "code",
   "execution_count": null,
   "metadata": {},
   "outputs": [],
   "source": []
  },
  {
   "cell_type": "code",
   "execution_count": null,
   "metadata": {},
   "outputs": [],
   "source": []
  }
 ],
 "metadata": {
  "anaconda-cloud": {},
  "kernelspec": {
   "display_name": "Python 3",
   "language": "python",
   "name": "python3"
  },
  "language_info": {
   "codemirror_mode": {
    "name": "ipython",
    "version": 3
   },
   "file_extension": ".py",
   "mimetype": "text/x-python",
   "name": "python",
   "nbconvert_exporter": "python",
   "pygments_lexer": "ipython3",
   "version": "3.7.4"
  },
  "name": "_merged"
 },
 "nbformat": 4,
 "nbformat_minor": 1
}
